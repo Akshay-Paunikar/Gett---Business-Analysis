{
 "cells": [
  {
   "cell_type": "markdown",
   "id": "e1653244-15b2-4e51-a358-ae9ce1db6850",
   "metadata": {},
   "source": [
    "<h2>Gett - Business Analysis - Insights from Failed Orders</h2>"
   ]
  },
  {
   "cell_type": "markdown",
   "id": "6781b8d9-f589-4f89-8572-683563798723",
   "metadata": {},
   "source": [
    "<h4>Problem Statement:</h4>\n",
    "\n",
    "Gett, previously known as GetTaxi, is an Israeli-developed technology platform solely focused on corporate Ground Transportation Management (GTM). They have an application where clients can order taxis, and drivers can accept their rides (offers). At the moment, when the client clicks the Order button in the application, the matching system searches for the most relevant drivers and offers them the order. In this task, we would like to investigate some matching metrics for orders that did not completed successfully, i.e., the customer didn't end up getting a car."
   ]
  },
  {
   "cell_type": "markdown",
   "id": "5cfab63d-2c26-4847-9125-5e660923067f",
   "metadata": {},
   "source": [
    "<h4>Assignment:</h4>\n",
    "\n",
    "Please complete the following tasks.\n",
    "\n",
    " - Build up distribution of orders according to reasons for failure: cancellations before and after driver assignment, and reasons for order rejection. Analyse the resulting plot. Which category has the highest number of orders?\n",
    " - Plot the distribution of failed orders by hours. Is there a trend that certain hours have an abnormally high proportion of one category or another? What hours are the biggest fails? How can this be explained?\n",
    " - Plot the average time to cancellation with and without driver, by the hour. If there are any outliers in the data, it would be better to remove them. Can we draw any conclusions from this plot?\n",
    " - Plot the distribution of average ETA by hours. How can this plot be explained?\n",
    " - BONUS Hexagons. Using the h3 and folium packages, calculate how many sizes 8 hexes contain 80% of all orders from the original data sets and visualise the hexes, colouring them by the number of fails on the map."
   ]
  },
  {
   "cell_type": "markdown",
   "id": "4df4617d-f4c5-4cdf-9312-436c9cf66617",
   "metadata": {},
   "source": [
    "<h4>Data Description:</h4>\n",
    "\n",
    "We have two data sets: data_orders and data_offers, both being stored in a CSV format. The data_orders data set contains the following columns:\n",
    "\n",
    " - order_datetime - time of the order\n",
    " - origin_longitude - longitude of the order\n",
    " - origin_latitude - latitude of the order\n",
    " - m_order_eta - time before order arrival\n",
    " - order_gk - order number\n",
    " - order_status_key - status, an enumeration consisting of the following mapping:\n",
    "    - 4 - cancelled by client,\n",
    "    - 9 - cancelled by system, i.e., a reject\n",
    " - is_driver_assigned_key - whether a driver has been assigned\n",
    " - cancellation_time_in_seconds - how many seconds passed before cancellation\n",
    " - \n",
    "The data_offers data set is a simple map with 2 columns:\n",
    "\n",
    " - order_gk - order number, associated with the same column from the orders data set\n",
    " - offer_id - ID of an offer"
   ]
  },
  {
   "cell_type": "code",
   "execution_count": null,
   "id": "1cd8a243-e85b-4038-8e3e-b65056d487cd",
   "metadata": {},
   "outputs": [],
   "source": []
  }
 ],
 "metadata": {
  "kernelspec": {
   "display_name": "Python 3 (ipykernel)",
   "language": "python",
   "name": "python3"
  },
  "language_info": {
   "codemirror_mode": {
    "name": "ipython",
    "version": 3
   },
   "file_extension": ".py",
   "mimetype": "text/x-python",
   "name": "python",
   "nbconvert_exporter": "python",
   "pygments_lexer": "ipython3",
   "version": "3.9.18"
  }
 },
 "nbformat": 4,
 "nbformat_minor": 5
}
