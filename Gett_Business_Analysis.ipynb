{
 "cells": [
  {
   "cell_type": "markdown",
   "id": "e1653244-15b2-4e51-a358-ae9ce1db6850",
   "metadata": {},
   "source": [
    "<h2>Gett - Business Analysis - Insights from Failed Orders</h2>"
   ]
  },
  {
   "cell_type": "markdown",
   "id": "6781b8d9-f589-4f89-8572-683563798723",
   "metadata": {},
   "source": [
    "<h4>Problem Statement:</h4>\n",
    "\n",
    "Gett, previously known as GetTaxi, is an Israeli-developed technology platform solely focused on corporate Ground Transportation Management (GTM). They have an application where clients can order taxis, and drivers can accept their rides (offers). At the moment, when the client clicks the Order button in the application, the matching system searches for the most relevant drivers and offers them the order. In this task, we would like to investigate some matching metrics for orders that did not completed successfully, i.e., the customer didn't end up getting a car."
   ]
  },
  {
   "cell_type": "markdown",
   "id": "5cfab63d-2c26-4847-9125-5e660923067f",
   "metadata": {},
   "source": [
    "<h4>Assignment:</h4>\n",
    "\n",
    "Please complete the following tasks.\n",
    "\n",
    " - Build up distribution of orders according to reasons for failure: cancellations before and after driver assignment, and reasons for order rejection. Analyse the resulting plot. Which category has the highest number of orders?\n",
    " - Plot the distribution of failed orders by hours. Is there a trend that certain hours have an abnormally high proportion of one category or another? What hours are the biggest fails? How can this be explained?\n",
    " - Plot the average time to cancellation with and without driver, by the hour. If there are any outliers in the data, it would be better to remove them. Can we draw any conclusions from this plot?\n",
    " - Plot the distribution of average ETA by hours. How can this plot be explained?\n",
    " - BONUS Hexagons. Using the h3 and folium packages, calculate how many sizes 8 hexes contain 80% of all orders from the original data sets and visualise the hexes, colouring them by the number of fails on the map."
   ]
  },
  {
   "cell_type": "markdown",
   "id": "4df4617d-f4c5-4cdf-9312-436c9cf66617",
   "metadata": {},
   "source": [
    "<h4>Data Description:</h4>\n",
    "\n",
    "We have two data sets: data_orders and data_offers, both being stored in a CSV format. The data_orders data set contains the following columns:\n",
    "\n",
    " - order_datetime - time of the order\n",
    " - origin_longitude - longitude of the order\n",
    " - origin_latitude - latitude of the order\n",
    " - m_order_eta - time before order arrival\n",
    " - order_gk - order number\n",
    " - order_status_key - status, an enumeration consisting of the following mapping:\n",
    "    - 4 - cancelled by client,\n",
    "    - 9 - cancelled by system, i.e., a reject\n",
    " - is_driver_assigned_key - whether a driver has been assigned\n",
    " - cancellation_time_in_seconds - how many seconds passed before cancellation\n",
    " - \n",
    "The data_offers data set is a simple map with 2 columns:\n",
    "\n",
    " - order_gk - order number, associated with the same column from the orders data set\n",
    " - offer_id - ID of an offer"
   ]
  },
  {
   "cell_type": "code",
   "execution_count": 34,
   "id": "1cd8a243-e85b-4038-8e3e-b65056d487cd",
   "metadata": {},
   "outputs": [],
   "source": [
    "# import required libraries\n",
    "import numpy as np\n",
    "import pandas as pd\n",
    "import matplotlib.pyplot as plt\n",
    "%matplotlib inline\n",
    "import seaborn as sns\n",
    "import h3\n",
    "import folium"
   ]
  },
  {
   "cell_type": "code",
   "execution_count": 35,
   "id": "3402a482-55a7-42e3-8e06-7eaac52ddff5",
   "metadata": {},
   "outputs": [],
   "source": [
    "# read the csv dataset\n",
    "orders = pd.read_csv(\"archive/data_orders.csv\")\n",
    "offers = pd.read_csv(\"archive/data_offers.csv\")"
   ]
  },
  {
   "cell_type": "code",
   "execution_count": 36,
   "id": "91c7e0d6-65f0-477e-ad09-7f1cbfc8def1",
   "metadata": {},
   "outputs": [
    {
     "data": {
      "text/html": [
       "<div>\n",
       "<style scoped>\n",
       "    .dataframe tbody tr th:only-of-type {\n",
       "        vertical-align: middle;\n",
       "    }\n",
       "\n",
       "    .dataframe tbody tr th {\n",
       "        vertical-align: top;\n",
       "    }\n",
       "\n",
       "    .dataframe thead th {\n",
       "        text-align: right;\n",
       "    }\n",
       "</style>\n",
       "<table border=\"1\" class=\"dataframe\">\n",
       "  <thead>\n",
       "    <tr style=\"text-align: right;\">\n",
       "      <th></th>\n",
       "      <th>order_datetime</th>\n",
       "      <th>origin_longitude</th>\n",
       "      <th>origin_latitude</th>\n",
       "      <th>m_order_eta</th>\n",
       "      <th>order_gk</th>\n",
       "      <th>order_status_key</th>\n",
       "      <th>is_driver_assigned_key</th>\n",
       "      <th>cancellations_time_in_seconds</th>\n",
       "    </tr>\n",
       "  </thead>\n",
       "  <tbody>\n",
       "    <tr>\n",
       "      <th>0</th>\n",
       "      <td>18:08:07</td>\n",
       "      <td>-0.978916</td>\n",
       "      <td>51.456173</td>\n",
       "      <td>60.0</td>\n",
       "      <td>3000583041974</td>\n",
       "      <td>4</td>\n",
       "      <td>1</td>\n",
       "      <td>198.0</td>\n",
       "    </tr>\n",
       "    <tr>\n",
       "      <th>1</th>\n",
       "      <td>20:57:32</td>\n",
       "      <td>-0.950385</td>\n",
       "      <td>51.456843</td>\n",
       "      <td>NaN</td>\n",
       "      <td>3000583116437</td>\n",
       "      <td>4</td>\n",
       "      <td>0</td>\n",
       "      <td>128.0</td>\n",
       "    </tr>\n",
       "    <tr>\n",
       "      <th>2</th>\n",
       "      <td>12:07:50</td>\n",
       "      <td>-0.969520</td>\n",
       "      <td>51.455544</td>\n",
       "      <td>477.0</td>\n",
       "      <td>3000582891479</td>\n",
       "      <td>4</td>\n",
       "      <td>1</td>\n",
       "      <td>46.0</td>\n",
       "    </tr>\n",
       "    <tr>\n",
       "      <th>3</th>\n",
       "      <td>13:50:20</td>\n",
       "      <td>-1.054671</td>\n",
       "      <td>51.460544</td>\n",
       "      <td>658.0</td>\n",
       "      <td>3000582941169</td>\n",
       "      <td>4</td>\n",
       "      <td>1</td>\n",
       "      <td>62.0</td>\n",
       "    </tr>\n",
       "    <tr>\n",
       "      <th>4</th>\n",
       "      <td>21:24:45</td>\n",
       "      <td>-0.967605</td>\n",
       "      <td>51.458236</td>\n",
       "      <td>NaN</td>\n",
       "      <td>3000583140877</td>\n",
       "      <td>9</td>\n",
       "      <td>0</td>\n",
       "      <td>NaN</td>\n",
       "    </tr>\n",
       "  </tbody>\n",
       "</table>\n",
       "</div>"
      ],
      "text/plain": [
       "  order_datetime  origin_longitude  origin_latitude  m_order_eta  \\\n",
       "0       18:08:07         -0.978916        51.456173         60.0   \n",
       "1       20:57:32         -0.950385        51.456843          NaN   \n",
       "2       12:07:50         -0.969520        51.455544        477.0   \n",
       "3       13:50:20         -1.054671        51.460544        658.0   \n",
       "4       21:24:45         -0.967605        51.458236          NaN   \n",
       "\n",
       "        order_gk  order_status_key  is_driver_assigned_key  \\\n",
       "0  3000583041974                 4                       1   \n",
       "1  3000583116437                 4                       0   \n",
       "2  3000582891479                 4                       1   \n",
       "3  3000582941169                 4                       1   \n",
       "4  3000583140877                 9                       0   \n",
       "\n",
       "   cancellations_time_in_seconds  \n",
       "0                          198.0  \n",
       "1                          128.0  \n",
       "2                           46.0  \n",
       "3                           62.0  \n",
       "4                            NaN  "
      ]
     },
     "execution_count": 36,
     "metadata": {},
     "output_type": "execute_result"
    }
   ],
   "source": [
    "# let's check some few records from datasets\n",
    "orders.head()"
   ]
  },
  {
   "cell_type": "code",
   "execution_count": 37,
   "id": "4830e3fb-e4fc-476c-91ed-3c5e0368fab2",
   "metadata": {},
   "outputs": [
    {
     "data": {
      "text/html": [
       "<div>\n",
       "<style scoped>\n",
       "    .dataframe tbody tr th:only-of-type {\n",
       "        vertical-align: middle;\n",
       "    }\n",
       "\n",
       "    .dataframe tbody tr th {\n",
       "        vertical-align: top;\n",
       "    }\n",
       "\n",
       "    .dataframe thead th {\n",
       "        text-align: right;\n",
       "    }\n",
       "</style>\n",
       "<table border=\"1\" class=\"dataframe\">\n",
       "  <thead>\n",
       "    <tr style=\"text-align: right;\">\n",
       "      <th></th>\n",
       "      <th>order_gk</th>\n",
       "      <th>offer_id</th>\n",
       "    </tr>\n",
       "  </thead>\n",
       "  <tbody>\n",
       "    <tr>\n",
       "      <th>0</th>\n",
       "      <td>3000579625629</td>\n",
       "      <td>300050936206</td>\n",
       "    </tr>\n",
       "    <tr>\n",
       "      <th>1</th>\n",
       "      <td>3000627306450</td>\n",
       "      <td>300052064651</td>\n",
       "    </tr>\n",
       "    <tr>\n",
       "      <th>2</th>\n",
       "      <td>3000632920686</td>\n",
       "      <td>300052408812</td>\n",
       "    </tr>\n",
       "    <tr>\n",
       "      <th>3</th>\n",
       "      <td>3000632771725</td>\n",
       "      <td>300052393030</td>\n",
       "    </tr>\n",
       "    <tr>\n",
       "      <th>4</th>\n",
       "      <td>3000583467642</td>\n",
       "      <td>300051001196</td>\n",
       "    </tr>\n",
       "  </tbody>\n",
       "</table>\n",
       "</div>"
      ],
      "text/plain": [
       "        order_gk      offer_id\n",
       "0  3000579625629  300050936206\n",
       "1  3000627306450  300052064651\n",
       "2  3000632920686  300052408812\n",
       "3  3000632771725  300052393030\n",
       "4  3000583467642  300051001196"
      ]
     },
     "execution_count": 37,
     "metadata": {},
     "output_type": "execute_result"
    }
   ],
   "source": [
    "offers.head()"
   ]
  },
  {
   "cell_type": "code",
   "execution_count": 38,
   "id": "bf0812c8-16f5-4b72-b217-73665c44798c",
   "metadata": {},
   "outputs": [
    {
     "name": "stdout",
     "output_type": "stream",
     "text": [
      "Orders dataset: (10716, 8)\n",
      "Offers dataset: (334363, 2)\n"
     ]
    }
   ],
   "source": [
    "print(\"Orders dataset:\", orders.shape)\n",
    "print(\"Offers dataset:\", offers.shape)"
   ]
  },
  {
   "cell_type": "code",
   "execution_count": 39,
   "id": "8c4a0525-339d-4ac2-9c55-d66d6b991a2f",
   "metadata": {},
   "outputs": [
    {
     "name": "stdout",
     "output_type": "stream",
     "text": [
      "Orders dataset:\n",
      " order_datetime                    object\n",
      "origin_longitude                 float64\n",
      "origin_latitude                  float64\n",
      "m_order_eta                      float64\n",
      "order_gk                           int64\n",
      "order_status_key                   int64\n",
      "is_driver_assigned_key             int64\n",
      "cancellations_time_in_seconds    float64\n",
      "dtype: object\n",
      "\n",
      "Offers dataset:\n",
      " order_gk    int64\n",
      "offer_id    int64\n",
      "dtype: object\n"
     ]
    }
   ],
   "source": [
    "# datatypes\n",
    "print(\"Orders dataset:\\n\", orders.dtypes)\n",
    "print()\n",
    "print(\"Offers dataset:\\n\", offers.dtypes)"
   ]
  },
  {
   "cell_type": "code",
   "execution_count": 40,
   "id": "cd13cb5b-eec4-4c77-8726-e93f16ac5d45",
   "metadata": {},
   "outputs": [],
   "source": [
    "# Data cleaning\n",
    "orders['order_datetime'] = pd.to_datetime(orders['order_datetime'])\n",
    "orders['hour'] = orders['order_datetime'].dt.hour"
   ]
  },
  {
   "cell_type": "code",
   "execution_count": 41,
   "id": "42744d85-17ed-4100-88f7-6be761a5142e",
   "metadata": {},
   "outputs": [
    {
     "data": {
      "text/html": [
       "<div>\n",
       "<style scoped>\n",
       "    .dataframe tbody tr th:only-of-type {\n",
       "        vertical-align: middle;\n",
       "    }\n",
       "\n",
       "    .dataframe tbody tr th {\n",
       "        vertical-align: top;\n",
       "    }\n",
       "\n",
       "    .dataframe thead th {\n",
       "        text-align: right;\n",
       "    }\n",
       "</style>\n",
       "<table border=\"1\" class=\"dataframe\">\n",
       "  <thead>\n",
       "    <tr style=\"text-align: right;\">\n",
       "      <th></th>\n",
       "      <th>order_datetime</th>\n",
       "      <th>origin_longitude</th>\n",
       "      <th>origin_latitude</th>\n",
       "      <th>m_order_eta</th>\n",
       "      <th>order_gk</th>\n",
       "      <th>order_status_key</th>\n",
       "      <th>is_driver_assigned_key</th>\n",
       "      <th>cancellations_time_in_seconds</th>\n",
       "      <th>hour</th>\n",
       "    </tr>\n",
       "  </thead>\n",
       "  <tbody>\n",
       "    <tr>\n",
       "      <th>0</th>\n",
       "      <td>2024-05-23 18:08:07</td>\n",
       "      <td>-0.978916</td>\n",
       "      <td>51.456173</td>\n",
       "      <td>60.0</td>\n",
       "      <td>3000583041974</td>\n",
       "      <td>4</td>\n",
       "      <td>1</td>\n",
       "      <td>198.0</td>\n",
       "      <td>18</td>\n",
       "    </tr>\n",
       "    <tr>\n",
       "      <th>1</th>\n",
       "      <td>2024-05-23 20:57:32</td>\n",
       "      <td>-0.950385</td>\n",
       "      <td>51.456843</td>\n",
       "      <td>NaN</td>\n",
       "      <td>3000583116437</td>\n",
       "      <td>4</td>\n",
       "      <td>0</td>\n",
       "      <td>128.0</td>\n",
       "      <td>20</td>\n",
       "    </tr>\n",
       "    <tr>\n",
       "      <th>2</th>\n",
       "      <td>2024-05-23 12:07:50</td>\n",
       "      <td>-0.969520</td>\n",
       "      <td>51.455544</td>\n",
       "      <td>477.0</td>\n",
       "      <td>3000582891479</td>\n",
       "      <td>4</td>\n",
       "      <td>1</td>\n",
       "      <td>46.0</td>\n",
       "      <td>12</td>\n",
       "    </tr>\n",
       "    <tr>\n",
       "      <th>3</th>\n",
       "      <td>2024-05-23 13:50:20</td>\n",
       "      <td>-1.054671</td>\n",
       "      <td>51.460544</td>\n",
       "      <td>658.0</td>\n",
       "      <td>3000582941169</td>\n",
       "      <td>4</td>\n",
       "      <td>1</td>\n",
       "      <td>62.0</td>\n",
       "      <td>13</td>\n",
       "    </tr>\n",
       "    <tr>\n",
       "      <th>4</th>\n",
       "      <td>2024-05-23 21:24:45</td>\n",
       "      <td>-0.967605</td>\n",
       "      <td>51.458236</td>\n",
       "      <td>NaN</td>\n",
       "      <td>3000583140877</td>\n",
       "      <td>9</td>\n",
       "      <td>0</td>\n",
       "      <td>NaN</td>\n",
       "      <td>21</td>\n",
       "    </tr>\n",
       "  </tbody>\n",
       "</table>\n",
       "</div>"
      ],
      "text/plain": [
       "       order_datetime  origin_longitude  origin_latitude  m_order_eta  \\\n",
       "0 2024-05-23 18:08:07         -0.978916        51.456173         60.0   \n",
       "1 2024-05-23 20:57:32         -0.950385        51.456843          NaN   \n",
       "2 2024-05-23 12:07:50         -0.969520        51.455544        477.0   \n",
       "3 2024-05-23 13:50:20         -1.054671        51.460544        658.0   \n",
       "4 2024-05-23 21:24:45         -0.967605        51.458236          NaN   \n",
       "\n",
       "        order_gk  order_status_key  is_driver_assigned_key  \\\n",
       "0  3000583041974                 4                       1   \n",
       "1  3000583116437                 4                       0   \n",
       "2  3000582891479                 4                       1   \n",
       "3  3000582941169                 4                       1   \n",
       "4  3000583140877                 9                       0   \n",
       "\n",
       "   cancellations_time_in_seconds  hour  \n",
       "0                          198.0    18  \n",
       "1                          128.0    20  \n",
       "2                           46.0    12  \n",
       "3                           62.0    13  \n",
       "4                            NaN    21  "
      ]
     },
     "execution_count": 41,
     "metadata": {},
     "output_type": "execute_result"
    }
   ],
   "source": [
    "orders.head()"
   ]
  },
  {
   "cell_type": "code",
   "execution_count": 42,
   "id": "9aa53d75-7f8d-4006-bcb2-57956b4d5cff",
   "metadata": {},
   "outputs": [
    {
     "data": {
      "text/plain": [
       "order_datetime                      0\n",
       "origin_longitude                    0\n",
       "origin_latitude                     0\n",
       "m_order_eta                      7902\n",
       "order_gk                            0\n",
       "order_status_key                    0\n",
       "is_driver_assigned_key              0\n",
       "cancellations_time_in_seconds    3409\n",
       "hour                                0\n",
       "dtype: int64"
      ]
     },
     "execution_count": 42,
     "metadata": {},
     "output_type": "execute_result"
    }
   ],
   "source": [
    "# check for null/duplicates\n",
    "orders.isnull().sum()"
   ]
  },
  {
   "cell_type": "code",
   "execution_count": 43,
   "id": "4112994e-b977-4842-b9c3-dd67afe33947",
   "metadata": {},
   "outputs": [
    {
     "data": {
      "text/plain": [
       "0"
      ]
     },
     "execution_count": 43,
     "metadata": {},
     "output_type": "execute_result"
    }
   ],
   "source": [
    "orders.duplicated().sum()"
   ]
  },
  {
   "cell_type": "markdown",
   "id": "84e98dfa-4f86-4edc-9767-d071f67a1ad7",
   "metadata": {},
   "source": [
    "As you can see that there are no duplicate values present in our orders data. However, there are some missing values i.e NaN values present in features \"m_order_eta\" and \"cancellations_time_in_seconds\". Now, we can either impute them or just remove them or ignore while analyzing. Before we proceed with any of these methods, It is important to see the relationship of these features with the other to see if there is any pattern. Now, if it is showing any pattern or indicating a cause and effect relationship, we have to keep the values as it is and ignore them while data visualization to get more accurate analysis."
   ]
  },
  {
   "cell_type": "markdown",
   "id": "8fc880d4-e237-4cbc-b7a7-5fac83561120",
   "metadata": {},
   "source": [
    "To perform this analysis we will first create two datasets: system_cancel and client_cancel which indicates the orders are cancelled by system and client repectively. Then, we will analyze the relationship between the features for both the data. Here, we have to analyze the relationship between \"order_status_key\" which represents whether the order is cancelled by system or client and the features \"m_order_eta\", \"is_driver_assigned_key\", \"cancellations_time_in_seconds\" to see if it indicates any pattern or provides insights on why there are NaN values present. "
   ]
  },
  {
   "cell_type": "code",
   "execution_count": 44,
   "id": "a8d0b135-81e4-45ca-aee7-454f57392ff8",
   "metadata": {},
   "outputs": [],
   "source": [
    "# system cancel data\n",
    "system_cancel = orders[orders['order_status_key'] == 9]"
   ]
  },
  {
   "cell_type": "code",
   "execution_count": 45,
   "id": "4e458700-6400-41e5-93a2-6cd355997af7",
   "metadata": {},
   "outputs": [
    {
     "data": {
      "text/html": [
       "<div>\n",
       "<style scoped>\n",
       "    .dataframe tbody tr th:only-of-type {\n",
       "        vertical-align: middle;\n",
       "    }\n",
       "\n",
       "    .dataframe tbody tr th {\n",
       "        vertical-align: top;\n",
       "    }\n",
       "\n",
       "    .dataframe thead th {\n",
       "        text-align: right;\n",
       "    }\n",
       "</style>\n",
       "<table border=\"1\" class=\"dataframe\">\n",
       "  <thead>\n",
       "    <tr style=\"text-align: right;\">\n",
       "      <th></th>\n",
       "      <th>order_datetime</th>\n",
       "      <th>origin_longitude</th>\n",
       "      <th>origin_latitude</th>\n",
       "      <th>m_order_eta</th>\n",
       "      <th>order_gk</th>\n",
       "      <th>order_status_key</th>\n",
       "      <th>is_driver_assigned_key</th>\n",
       "      <th>cancellations_time_in_seconds</th>\n",
       "      <th>hour</th>\n",
       "    </tr>\n",
       "  </thead>\n",
       "  <tbody>\n",
       "    <tr>\n",
       "      <th>4</th>\n",
       "      <td>2024-05-23 21:24:45</td>\n",
       "      <td>-0.967605</td>\n",
       "      <td>51.458236</td>\n",
       "      <td>NaN</td>\n",
       "      <td>3000583140877</td>\n",
       "      <td>9</td>\n",
       "      <td>0</td>\n",
       "      <td>NaN</td>\n",
       "      <td>21</td>\n",
       "    </tr>\n",
       "    <tr>\n",
       "      <th>5</th>\n",
       "      <td>2024-05-23 21:21:23</td>\n",
       "      <td>-0.947011</td>\n",
       "      <td>51.456380</td>\n",
       "      <td>NaN</td>\n",
       "      <td>3000583117054</td>\n",
       "      <td>9</td>\n",
       "      <td>0</td>\n",
       "      <td>NaN</td>\n",
       "      <td>21</td>\n",
       "    </tr>\n",
       "    <tr>\n",
       "      <th>6</th>\n",
       "      <td>2024-05-23 07:58:15</td>\n",
       "      <td>-0.955637</td>\n",
       "      <td>51.470372</td>\n",
       "      <td>NaN</td>\n",
       "      <td>3000582791789</td>\n",
       "      <td>9</td>\n",
       "      <td>0</td>\n",
       "      <td>NaN</td>\n",
       "      <td>7</td>\n",
       "    </tr>\n",
       "    <tr>\n",
       "      <th>7</th>\n",
       "      <td>2024-05-23 07:53:46</td>\n",
       "      <td>-0.978230</td>\n",
       "      <td>51.454575</td>\n",
       "      <td>NaN</td>\n",
       "      <td>3000582791562</td>\n",
       "      <td>9</td>\n",
       "      <td>0</td>\n",
       "      <td>NaN</td>\n",
       "      <td>7</td>\n",
       "    </tr>\n",
       "    <tr>\n",
       "      <th>8</th>\n",
       "      <td>2024-05-23 08:53:01</td>\n",
       "      <td>-1.052298</td>\n",
       "      <td>51.454308</td>\n",
       "      <td>NaN</td>\n",
       "      <td>3000582817606</td>\n",
       "      <td>9</td>\n",
       "      <td>0</td>\n",
       "      <td>NaN</td>\n",
       "      <td>8</td>\n",
       "    </tr>\n",
       "  </tbody>\n",
       "</table>\n",
       "</div>"
      ],
      "text/plain": [
       "       order_datetime  origin_longitude  origin_latitude  m_order_eta  \\\n",
       "4 2024-05-23 21:24:45         -0.967605        51.458236          NaN   \n",
       "5 2024-05-23 21:21:23         -0.947011        51.456380          NaN   \n",
       "6 2024-05-23 07:58:15         -0.955637        51.470372          NaN   \n",
       "7 2024-05-23 07:53:46         -0.978230        51.454575          NaN   \n",
       "8 2024-05-23 08:53:01         -1.052298        51.454308          NaN   \n",
       "\n",
       "        order_gk  order_status_key  is_driver_assigned_key  \\\n",
       "4  3000583140877                 9                       0   \n",
       "5  3000583117054                 9                       0   \n",
       "6  3000582791789                 9                       0   \n",
       "7  3000582791562                 9                       0   \n",
       "8  3000582817606                 9                       0   \n",
       "\n",
       "   cancellations_time_in_seconds  hour  \n",
       "4                            NaN    21  \n",
       "5                            NaN    21  \n",
       "6                            NaN     7  \n",
       "7                            NaN     7  \n",
       "8                            NaN     8  "
      ]
     },
     "execution_count": 45,
     "metadata": {},
     "output_type": "execute_result"
    }
   ],
   "source": [
    "system_cancel.head()"
   ]
  },
  {
   "cell_type": "code",
   "execution_count": 46,
   "id": "b95a0cb6-b64b-4daf-8085-f8fcac6df0a6",
   "metadata": {},
   "outputs": [
    {
     "data": {
      "text/plain": [
       "(3409, 9)"
      ]
     },
     "execution_count": 46,
     "metadata": {},
     "output_type": "execute_result"
    }
   ],
   "source": [
    "system_cancel.shape"
   ]
  },
  {
   "cell_type": "code",
   "execution_count": 47,
   "id": "ebb9aded-d9cb-4a99-a939-b1d313e3ff83",
   "metadata": {},
   "outputs": [
    {
     "data": {
      "text/plain": [
       "order_datetime                      0\n",
       "origin_longitude                    0\n",
       "origin_latitude                     0\n",
       "m_order_eta                      3406\n",
       "order_gk                            0\n",
       "order_status_key                    0\n",
       "is_driver_assigned_key              0\n",
       "cancellations_time_in_seconds    3409\n",
       "hour                                0\n",
       "dtype: int64"
      ]
     },
     "execution_count": 47,
     "metadata": {},
     "output_type": "execute_result"
    }
   ],
   "source": [
    "system_cancel.isnull().sum()"
   ]
  },
  {
   "cell_type": "code",
   "execution_count": 48,
   "id": "b7460f8b-267c-46e2-b8f6-b3fbc3c332c3",
   "metadata": {},
   "outputs": [
    {
     "data": {
      "text/plain": [
       "418.0    1\n",
       "60.0     1\n",
       "298.0    1\n",
       "Name: m_order_eta, dtype: int64"
      ]
     },
     "execution_count": 48,
     "metadata": {},
     "output_type": "execute_result"
    }
   ],
   "source": [
    "# relationship with m_order_eta\n",
    "system_cancel['m_order_eta'].value_counts()"
   ]
  },
  {
   "cell_type": "code",
   "execution_count": 49,
   "id": "c566b27d-3cb9-4b80-b44f-c22f51fcd6a9",
   "metadata": {},
   "outputs": [
    {
     "data": {
      "text/plain": [
       "0    3406\n",
       "1       3\n",
       "Name: is_driver_assigned_key, dtype: int64"
      ]
     },
     "execution_count": 49,
     "metadata": {},
     "output_type": "execute_result"
    }
   ],
   "source": [
    "# relationship with is_driver_assigned_key\n",
    "system_cancel['is_driver_assigned_key'].value_counts()"
   ]
  },
  {
   "cell_type": "code",
   "execution_count": 50,
   "id": "4847fd76-1e48-4d9d-8562-e462ee6ef00a",
   "metadata": {},
   "outputs": [
    {
     "data": {
      "text/plain": [
       "Series([], Name: cancellations_time_in_seconds, dtype: int64)"
      ]
     },
     "execution_count": 50,
     "metadata": {},
     "output_type": "execute_result"
    }
   ],
   "source": [
    "# relationship with cancellations_time_in_seconds\n",
    "system_cancel['cancellations_time_in_seconds'].value_counts()"
   ]
  },
  {
   "cell_type": "markdown",
   "id": "6aaae1fc-f6ee-4911-abbd-1402a14143aa",
   "metadata": {},
   "source": [
    "As you can see that when the order is cancelled by system, it is obvious that the \"cancellations_time_in_seconds\" will be NaN since it it not recorded. Also, looking at the shape of the data there are 3409 records in system_cancel data which is exactly equal to the number of missing or NaN values that are present in the feature \"cancellations_time_in_seconds\" for our original orders data. Also, the feature \"is_driver_assigned_key\" has no driver's assigned for 3406 records since it is cancelled by system itself. Let's discuss the 3 records where driver is assigned.\n",
    "\n",
    "Now, there are 3 records where feature \"m_order_eta\" has values and rest of them are NaN. Also, the feature \"is_driver_assigned_key\" has 3 records with value 1 indicating that the driver was assigned to these 3 cancelled requests.The feature \"m_order_eta\" represents time before order arrival and client may have cancelled the order due to long wait or the any other reasons unknown to us or maybe after the driver was assigned, the driver may have rejected the order itself due to personal reasons or the reasons unknown to us. That is why we have NaN values present in our data. Now, let's see the data where orders are cancelled by client."
   ]
  },
  {
   "cell_type": "code",
   "execution_count": 51,
   "id": "779bb2ca-1ca6-44c2-ae15-fde368d1159f",
   "metadata": {},
   "outputs": [],
   "source": [
    "# client cancel data\n",
    "client_cancel = orders[orders['order_status_key'] == 4]"
   ]
  },
  {
   "cell_type": "code",
   "execution_count": 52,
   "id": "a8cb82ee-bf1d-49d4-8eb1-df3454cdb861",
   "metadata": {},
   "outputs": [
    {
     "data": {
      "text/html": [
       "<div>\n",
       "<style scoped>\n",
       "    .dataframe tbody tr th:only-of-type {\n",
       "        vertical-align: middle;\n",
       "    }\n",
       "\n",
       "    .dataframe tbody tr th {\n",
       "        vertical-align: top;\n",
       "    }\n",
       "\n",
       "    .dataframe thead th {\n",
       "        text-align: right;\n",
       "    }\n",
       "</style>\n",
       "<table border=\"1\" class=\"dataframe\">\n",
       "  <thead>\n",
       "    <tr style=\"text-align: right;\">\n",
       "      <th></th>\n",
       "      <th>order_datetime</th>\n",
       "      <th>origin_longitude</th>\n",
       "      <th>origin_latitude</th>\n",
       "      <th>m_order_eta</th>\n",
       "      <th>order_gk</th>\n",
       "      <th>order_status_key</th>\n",
       "      <th>is_driver_assigned_key</th>\n",
       "      <th>cancellations_time_in_seconds</th>\n",
       "      <th>hour</th>\n",
       "    </tr>\n",
       "  </thead>\n",
       "  <tbody>\n",
       "    <tr>\n",
       "      <th>0</th>\n",
       "      <td>2024-05-23 18:08:07</td>\n",
       "      <td>-0.978916</td>\n",
       "      <td>51.456173</td>\n",
       "      <td>60.0</td>\n",
       "      <td>3000583041974</td>\n",
       "      <td>4</td>\n",
       "      <td>1</td>\n",
       "      <td>198.0</td>\n",
       "      <td>18</td>\n",
       "    </tr>\n",
       "    <tr>\n",
       "      <th>1</th>\n",
       "      <td>2024-05-23 20:57:32</td>\n",
       "      <td>-0.950385</td>\n",
       "      <td>51.456843</td>\n",
       "      <td>NaN</td>\n",
       "      <td>3000583116437</td>\n",
       "      <td>4</td>\n",
       "      <td>0</td>\n",
       "      <td>128.0</td>\n",
       "      <td>20</td>\n",
       "    </tr>\n",
       "    <tr>\n",
       "      <th>2</th>\n",
       "      <td>2024-05-23 12:07:50</td>\n",
       "      <td>-0.969520</td>\n",
       "      <td>51.455544</td>\n",
       "      <td>477.0</td>\n",
       "      <td>3000582891479</td>\n",
       "      <td>4</td>\n",
       "      <td>1</td>\n",
       "      <td>46.0</td>\n",
       "      <td>12</td>\n",
       "    </tr>\n",
       "    <tr>\n",
       "      <th>3</th>\n",
       "      <td>2024-05-23 13:50:20</td>\n",
       "      <td>-1.054671</td>\n",
       "      <td>51.460544</td>\n",
       "      <td>658.0</td>\n",
       "      <td>3000582941169</td>\n",
       "      <td>4</td>\n",
       "      <td>1</td>\n",
       "      <td>62.0</td>\n",
       "      <td>13</td>\n",
       "    </tr>\n",
       "    <tr>\n",
       "      <th>9</th>\n",
       "      <td>2024-05-23 06:33:52</td>\n",
       "      <td>-0.976216</td>\n",
       "      <td>51.433202</td>\n",
       "      <td>NaN</td>\n",
       "      <td>3000582765616</td>\n",
       "      <td>4</td>\n",
       "      <td>0</td>\n",
       "      <td>78.0</td>\n",
       "      <td>6</td>\n",
       "    </tr>\n",
       "  </tbody>\n",
       "</table>\n",
       "</div>"
      ],
      "text/plain": [
       "       order_datetime  origin_longitude  origin_latitude  m_order_eta  \\\n",
       "0 2024-05-23 18:08:07         -0.978916        51.456173         60.0   \n",
       "1 2024-05-23 20:57:32         -0.950385        51.456843          NaN   \n",
       "2 2024-05-23 12:07:50         -0.969520        51.455544        477.0   \n",
       "3 2024-05-23 13:50:20         -1.054671        51.460544        658.0   \n",
       "9 2024-05-23 06:33:52         -0.976216        51.433202          NaN   \n",
       "\n",
       "        order_gk  order_status_key  is_driver_assigned_key  \\\n",
       "0  3000583041974                 4                       1   \n",
       "1  3000583116437                 4                       0   \n",
       "2  3000582891479                 4                       1   \n",
       "3  3000582941169                 4                       1   \n",
       "9  3000582765616                 4                       0   \n",
       "\n",
       "   cancellations_time_in_seconds  hour  \n",
       "0                          198.0    18  \n",
       "1                          128.0    20  \n",
       "2                           46.0    12  \n",
       "3                           62.0    13  \n",
       "9                           78.0     6  "
      ]
     },
     "execution_count": 52,
     "metadata": {},
     "output_type": "execute_result"
    }
   ],
   "source": [
    "client_cancel.head()"
   ]
  },
  {
   "cell_type": "code",
   "execution_count": 53,
   "id": "eda52a1b-4d63-4a7c-aaea-0290499de505",
   "metadata": {},
   "outputs": [
    {
     "data": {
      "text/plain": [
       "(7307, 9)"
      ]
     },
     "execution_count": 53,
     "metadata": {},
     "output_type": "execute_result"
    }
   ],
   "source": [
    "client_cancel.shape"
   ]
  },
  {
   "cell_type": "code",
   "execution_count": 54,
   "id": "b634de92-fc8a-4b6f-a273-09666a0f252c",
   "metadata": {},
   "outputs": [
    {
     "data": {
      "text/plain": [
       "order_datetime                      0\n",
       "origin_longitude                    0\n",
       "origin_latitude                     0\n",
       "m_order_eta                      4496\n",
       "order_gk                            0\n",
       "order_status_key                    0\n",
       "is_driver_assigned_key              0\n",
       "cancellations_time_in_seconds       0\n",
       "hour                                0\n",
       "dtype: int64"
      ]
     },
     "execution_count": 54,
     "metadata": {},
     "output_type": "execute_result"
    }
   ],
   "source": [
    "client_cancel.isnull().sum()"
   ]
  },
  {
   "cell_type": "code",
   "execution_count": 55,
   "id": "f62e840d-a77a-4c10-b9bd-a0271d1aa7fb",
   "metadata": {},
   "outputs": [
    {
     "data": {
      "text/plain": [
       "60.0      244\n",
       "238.0     119\n",
       "298.0     112\n",
       "178.0     109\n",
       "358.0     108\n",
       "         ... \n",
       "1049.0      1\n",
       "821.0       1\n",
       "676.0       1\n",
       "437.0       1\n",
       "568.0       1\n",
       "Name: m_order_eta, Length: 292, dtype: int64"
      ]
     },
     "execution_count": 55,
     "metadata": {},
     "output_type": "execute_result"
    }
   ],
   "source": [
    "# relationship with m_order_eta\n",
    "client_cancel['m_order_eta'].value_counts()"
   ]
  },
  {
   "cell_type": "code",
   "execution_count": 56,
   "id": "c529b31f-abca-4f3e-9472-57f2a4844daa",
   "metadata": {},
   "outputs": [
    {
     "data": {
      "text/plain": [
       "0    4496\n",
       "1    2811\n",
       "Name: is_driver_assigned_key, dtype: int64"
      ]
     },
     "execution_count": 56,
     "metadata": {},
     "output_type": "execute_result"
    }
   ],
   "source": [
    "# relationship with is_driver_assigned_key\n",
    "client_cancel['is_driver_assigned_key'].value_counts()"
   ]
  },
  {
   "cell_type": "code",
   "execution_count": 57,
   "id": "19369beb-b051-4b93-b6cd-6e490b5ff75b",
   "metadata": {},
   "outputs": [
    {
     "data": {
      "text/plain": [
       "10.0     67\n",
       "9.0      64\n",
       "16.0     60\n",
       "6.0      60\n",
       "12.0     58\n",
       "         ..\n",
       "412.0     1\n",
       "467.0     1\n",
       "961.0     1\n",
       "661.0     1\n",
       "461.0     1\n",
       "Name: cancellations_time_in_seconds, Length: 772, dtype: int64"
      ]
     },
     "execution_count": 57,
     "metadata": {},
     "output_type": "execute_result"
    }
   ],
   "source": [
    "# relationship with cancellations_time_in_seconds\n",
    "client_cancel['cancellations_time_in_seconds'].value_counts()"
   ]
  },
  {
   "cell_type": "code",
   "execution_count": 58,
   "id": "e3dc2b09-4795-4acd-b661-5c9e551093f3",
   "metadata": {},
   "outputs": [
    {
     "data": {
      "text/plain": [
       "110.37144128113879"
      ]
     },
     "execution_count": 58,
     "metadata": {},
     "output_type": "execute_result"
    }
   ],
   "source": [
    "client_cancel[client_cancel['is_driver_assigned_key']==0]['cancellations_time_in_seconds'].mean()"
   ]
  },
  {
   "cell_type": "code",
   "execution_count": 59,
   "id": "28486bfe-56ef-48ac-b995-0a3f73e23aa6",
   "metadata": {},
   "outputs": [
    {
     "data": {
      "text/plain": [
       "233.89790110281038"
      ]
     },
     "execution_count": 59,
     "metadata": {},
     "output_type": "execute_result"
    }
   ],
   "source": [
    "client_cancel[client_cancel['is_driver_assigned_key']==1]['cancellations_time_in_seconds'].mean()"
   ]
  },
  {
   "cell_type": "code",
   "execution_count": 60,
   "id": "c1837df5-3e11-4b54-9fa4-95b92e78e754",
   "metadata": {},
   "outputs": [
    {
     "data": {
      "text/plain": [
       "nan"
      ]
     },
     "execution_count": 60,
     "metadata": {},
     "output_type": "execute_result"
    }
   ],
   "source": [
    "client_cancel[client_cancel['is_driver_assigned_key']==0]['m_order_eta'].mean()"
   ]
  },
  {
   "cell_type": "code",
   "execution_count": 61,
   "id": "c18afc86-200e-4f69-8d98-ac5bb8d1253d",
   "metadata": {},
   "outputs": [
    {
     "data": {
      "text/plain": [
       "441.6104589114194"
      ]
     },
     "execution_count": 61,
     "metadata": {},
     "output_type": "execute_result"
    }
   ],
   "source": [
    "client_cancel[client_cancel['is_driver_assigned_key']==1]['m_order_eta'].mean()"
   ]
  },
  {
   "cell_type": "markdown",
   "id": "de2f178e-0ad5-4887-a7ef-dd0fb0f47c48",
   "metadata": {},
   "source": [
    "As you can see that when the order is cancelled by client, we have some records with NaN but we also have sufficient records where we have actual values for the features \"m_order_eta\" and \"cancellations_time_in_seconds\". Let's discuss why NaN values are present in the data.\n",
    "\n",
    "Now, when driver is not assigned the average value for \"m_order_eta\" is NaN and \"cancellations_time_in_seconds\" is 110.37 seconds. This means that client waited for some time to see if driver is assigned or not and if driver is not assigned the client has cancelled the order.\n",
    "\n",
    "Now, when driver is assigned the the average value for \"m_order_eta\" is 441.61 seconds and \"cancellations_time_in_seconds\" is 233.89 seconds. This means that client cancelled the request because of long wait time or client waited for some time but eventually ended up cancelling the order or any other reasons unknown to us. That is why we have NaN values present in our data.\n",
    "\n",
    "Now that we have understood the reasons behind the NaN values present in our data, it is good practice to not remove them or impute them with any values. We will keep them as it is and we will just fill them with the value \"0\" during data visualization and completing the assignements given."
   ]
  },
  {
   "cell_type": "markdown",
   "id": "b090f348-1385-4d80-9b75-b525a9c4339b",
   "metadata": {},
   "source": [
    "#### # Task 1: Distribution of Orders According to Reasons for Failure"
   ]
  },
  {
   "cell_type": "code",
   "execution_count": 62,
   "id": "59a2e88d-0313-4554-aa47-9b64f58c68ad",
   "metadata": {},
   "outputs": [
    {
     "data": {
      "image/png": "[encoded data removed]",
      "text/plain": [
       "<Figure size 700x500 with 1 Axes>"
      ]
     },
     "metadata": {},
     "output_type": "display_data"
    }
   ],
   "source": [
    "# Task 1: Distribution of Orders According to Reasons for Failure\n",
    "orders['failure_reason'] = orders.apply(\n",
    "    lambda x: 'Cancelled by Client' if x['order_status_key'] == 4 else \n",
    "              'Cancelled by System' if x['order_status_key'] == 9 else 'Other', axis=1)\n",
    "orders['driver_assigned'] = orders['is_driver_assigned_key'].apply(lambda x: 'Driver Assigned' if x == 1 else 'No Driver Assigned')\n",
    "\n",
    "# let's visualize the data using a countplot\n",
    "plt.figure(figsize=(7,5))\n",
    "ax1 = plt.subplot2grid((1,1),(0,0))\n",
    "sns.countplot(x='failure_reason', data=orders, hue='driver_assigned', palette='viridis', ax=ax1)\n",
    "for i in ax1.containers:\n",
    "    plt.bar_label(i)\n",
    "plt.title('Distribution of Orders According to Reasons for Failure')\n",
    "plt.ylabel('Number of Orders')\n",
    "plt.show()"
   ]
  },
  {
   "cell_type": "markdown",
   "id": "5dca620a-09a9-4a9a-a387-20427f2559ce",
   "metadata": {},
   "source": [
    "#### # Task 2: Distribution of Failed Orders by Hours"
   ]
  },
  {
   "cell_type": "code",
   "execution_count": 63,
   "id": "4c8b22d3-cb8c-4304-86a0-87a4a99f6810",
   "metadata": {},
   "outputs": [
    {
     "data": {
      "image/png": "[encoded data removed]",
      "text/plain": [
       "<Figure size 1500x500 with 1 Axes>"
      ]
     },
     "metadata": {},
     "output_type": "display_data"
    }
   ],
   "source": [
    "# Task 2: Distribution of Failed Orders by Hours\n",
    "# let's visualize the data using a countplot\n",
    "plt.figure(figsize=(15,5))\n",
    "ax1 = plt.subplot2grid((1,1),(0,0))\n",
    "sns.countplot(x='hour', data=orders, hue='failure_reason', palette='viridis', ax=ax1)\n",
    "for i in ax1.containers:\n",
    "    plt.bar_label(i)\n",
    "plt.title('Distribution of Failed Orders by Hours')\n",
    "plt.ylabel('Number of Orders')\n",
    "plt.show()"
   ]
  },
  {
   "cell_type": "markdown",
   "id": "5320f226-dff8-4d12-9d71-7b72044b52b1",
   "metadata": {},
   "source": [
    "#### # Task 3: Average Time to Cancellation by Hour"
   ]
  },
  {
   "cell_type": "code",
   "execution_count": 64,
   "id": "40a44282-0676-49e1-9e7c-73c7dfad7030",
   "metadata": {},
   "outputs": [
    {
     "data": {
      "image/png": "[encoded data removed]",
      "text/plain": [
       "<Figure size 1000x500 with 1 Axes>"
      ]
     },
     "metadata": {},
     "output_type": "display_data"
    }
   ],
   "source": [
    "# Task 3: Average Time to Cancellation by Hour\n",
    "plt.figure(figsize=(10,5))\n",
    "sns.lineplot(x='hour', y='cancellations_time_in_seconds', hue='driver_assigned', data=orders, estimator='mean', ci=None)\n",
    "plt.title('Average Time to Cancellation by Hour')\n",
    "plt.ylabel('Average Cancellation Time (seconds)')\n",
    "plt.xticks(np.arange(min(orders['hour']), max(orders['hour'])+1, 1.0))\n",
    "plt.show()"
   ]
  },
  {
   "cell_type": "code",
   "execution_count": 65,
   "id": "be97112e-2472-4c9d-ab2a-3ef60b1a43a2",
   "metadata": {},
   "outputs": [
    {
     "data": {
      "image/png": "[encoded data removed]",
      "text/plain": [
       "<Figure size 640x480 with 1 Axes>"
      ]
     },
     "metadata": {},
     "output_type": "display_data"
    }
   ],
   "source": [
    "# Task 4: Distribution of Average ETA by Hours\n",
    "avg_eta_by_hour = orders.groupby('hour')['m_order_eta'].mean()\n",
    "avg_eta_by_hour.plot(kind='line')\n",
    "plt.title('Average ETA by Hours')\n",
    "plt.ylabel('Average ETA (minutes)')\n",
    "plt.show()"
   ]
  },
  {
   "cell_type": "code",
   "execution_count": 66,
   "id": "ed00b76a-569a-47b8-9493-51582dcc27ee",
   "metadata": {},
   "outputs": [],
   "source": [
    "# BONUS: Hexagons Visualization\n",
    "def plot_hexagons(orders, resolution=8):\n",
    "    hex_counts = {}\n",
    "    for _, row in orders.iterrows():\n",
    "        hex_id = h3.geo_to_h3(row['origin_latitude'], row['origin_longitude'], resolution)\n",
    "        if hex_id not in hex_counts:\n",
    "            hex_counts[hex_id] = 0\n",
    "        hex_counts[hex_id] += 1\n",
    "    \n",
    "    hex_counts = dict(sorted(hex_counts.items(), key=lambda item: item[1], reverse=True))\n",
    "    top_hexes = list(hex_counts.keys())[:int(0.8 * len(hex_counts))]\n",
    "    \n",
    "    map_center = [orders['origin_latitude'].mean(), orders['origin_longitude'].mean()]\n",
    "    m = folium.Map(location=map_center, zoom_start=12)\n",
    "    \n",
    "    for hex_id in top_hexes:\n",
    "        hex_boundary = h3.h3_to_geo_boundary(hex_id, geo_json=True)\n",
    "        folium.Polygon(locations=hex_boundary, color='blue', fill=True, fill_opacity=0.6).add_to(m)\n",
    "    \n",
    "    return m\n",
    "\n",
    "# Plot hexagons containing 80% of orders\n",
    "m = plot_hexagons(orders)\n",
    "m.save('hexagons_map.html')"
   ]
  }
 ],
 "metadata": {
  "kernelspec": {
   "display_name": "Python 3 (ipykernel)",
   "language": "python",
   "name": "python3"
  },
  "language_info": {
   "codemirror_mode": {
    "name": "ipython",
    "version": 3
   },
   "file_extension": ".py",
   "mimetype": "text/x-python",
   "name": "python",
   "nbconvert_exporter": "python",
   "pygments_lexer": "ipython3",
   "version": "3.9.18"
  }
 },
 "nbformat": 4,
 "nbformat_minor": 5
}
